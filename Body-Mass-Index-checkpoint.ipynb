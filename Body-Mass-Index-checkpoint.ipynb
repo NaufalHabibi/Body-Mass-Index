{
 "cells": [
  {
   "cell_type": "markdown",
   "metadata": {},
   "source": [
    "# BODY MASS INDEX"
   ]
  },
  {
   "cell_type": "code",
   "execution_count": null,
   "metadata": {},
   "outputs": [],
   "source": [
    "tinggi = float(input(\"masukan tinggi : \"))\n",
    "berat = float(input(\"masukan berat : \"))\n",
    "bmi = berat / (tinggi*tinggi)\n",
    "\n",
    "if bmi < 17.0 :\n",
    "    print(\"Kurus Kerempeng\")\n",
    "elif bmi  > 17.0 and bmi < 18.4 :\n",
    "    print(\"Kurus Biasa\")\n",
    "elif bmi > 18.4 and bmi < 25.0:\n",
    "    print(\"Normal\")\n",
    "elif bmi > 25.0 and bmi < 27.0 :\n",
    "    print(\"Obesitas Biasa\")\n",
    "else:\n",
    "    print(\"Gendut Teuing\")"
   ]
  },
  {
   "cell_type": "code",
   "execution_count": null,
   "metadata": {},
   "outputs": [],
   "source": []
  },
  {
   "cell_type": "code",
   "execution_count": null,
   "metadata": {},
   "outputs": [],
   "source": []
  }
 ],
 "metadata": {
  "kernelspec": {
   "display_name": "Python 3",
   "language": "python",
   "name": "python3"
  },
  "language_info": {
   "codemirror_mode": {
    "name": "ipython",
    "version": 3
   },
   "file_extension": ".py",
   "mimetype": "text/x-python",
   "name": "python",
   "nbconvert_exporter": "python",
   "pygments_lexer": "ipython3",
   "version": "3.7.1"
  }
 },
 "nbformat": 4,
 "nbformat_minor": 2
}
